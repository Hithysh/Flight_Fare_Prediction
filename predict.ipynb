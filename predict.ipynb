{
  "nbformat": 4,
  "nbformat_minor": 0,
  "metadata": {
    "colab": {
      "provenance": []
    },
    "kernelspec": {
      "name": "python3",
      "display_name": "Python 3"
    },
    "language_info": {
      "name": "python"
    }
  },
  "cells": [
    {
      "cell_type": "code",
      "source": [
        "%cd /content/drive/MyDrive/Flight_Fare_Prediction"
      ],
      "metadata": {
        "colab": {
          "base_uri": "https://localhost:8080/"
        },
        "id": "dCGn948YxgaP",
        "outputId": "43b72d3b-6e97-4a93-de1d-6d02e92c8023"
      },
      "execution_count": 1,
      "outputs": [
        {
          "output_type": "stream",
          "name": "stdout",
          "text": [
            "/content/drive/MyDrive/Flight_Fare_Prediction\n"
          ]
        }
      ]
    },
    {
      "cell_type": "code",
      "execution_count": 2,
      "metadata": {
        "colab": {
          "base_uri": "https://localhost:8080/"
        },
        "id": "2x7umA34xa23",
        "outputId": "358f023f-8681-4df6-eaa6-296f9c6e4bc8"
      },
      "outputs": [
        {
          "output_type": "stream",
          "name": "stdout",
          "text": [
            "Predicted Flight Fare: ₹ 6249.72\n"
          ]
        }
      ],
      "source": [
        "import pandas as pd\n",
        "import pickle\n",
        "\n",
        "# Load the saved model\n",
        "model = pickle.load(open('flight_rf.pkl', 'rb'))\n",
        "\n",
        "# Example data for prediction (replace with your actual data)\n",
        "data = {\n",
        "    'Total_Stops': [1],\n",
        "    'Journey_day': [6],\n",
        "    'Journey_month': [6],\n",
        "    'Dep_hour': [17],\n",
        "    'Dep_min': [30],\n",
        "    'Arrival_hour': [4],\n",
        "    'Arrival_min': [25],\n",
        "    'Duration_hours': [10],\n",
        "    'Duration_mins': [55],\n",
        "    'Airline_Air India': [0],\n",
        "    'Airline_GoAir': [0],\n",
        "    'Airline_IndiGo': [1],\n",
        "    'Airline_Jet Airways': [0],\n",
        "    'Airline_Jet Airways Business': [0],\n",
        "    'Airline_Multiple carriers': [0],\n",
        "    'Airline_Multiple carriers Premium economy': [0],\n",
        "    'Airline_SpiceJet': [0],\n",
        "    'Airline_Trujet': [0],\n",
        "    'Airline_Vistara': [0],\n",
        "    'Airline_Vistara Premium economy': [0],\n",
        "    'Source_Chennai': [0],\n",
        "    'Source_Delhi': [1],\n",
        "    'Source_Kolkata': [0],\n",
        "    'Source_Mumbai': [0],\n",
        "    'Destination_Cochin': [1],\n",
        "    'Destination_Delhi': [0],\n",
        "    'Destination_Hyderabad': [0],\n",
        "    'Destination_Kolkata': [0],\n",
        "    'Destination_New Delhi': [0]\n",
        "}\n",
        "\n",
        "# Convert data to DataFrame\n",
        "test_data = pd.DataFrame(data)\n",
        "\n",
        "# Predicting the flight fare\n",
        "predicted_fare = model.predict(test_data)[0]\n",
        "\n",
        "# Display the predicted fare\n",
        "print(f\"Predicted Flight Fare: ₹ {predicted_fare:.2f}\")"
      ]
    }
  ]
}